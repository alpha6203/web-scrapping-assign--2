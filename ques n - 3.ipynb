{
 "cells": [
  {
   "cell_type": "code",
   "execution_count": 5,
   "id": "0c29959c",
   "metadata": {},
   "outputs": [
    {
     "name": "stdout",
     "output_type": "stream",
     "text": [
      "Failed to fetch data from https://www.flipkart.com/search?q=sunglasses\n",
      "Empty DataFrame\n",
      "Columns: []\n",
      "Index: []\n"
     ]
    }
   ],
   "source": [
    "import requests\n",
    "from bs4 import BeautifulSoup\n",
    "import pandas as pd\n",
    "\n",
    "def scrape_flipkart_sunglasses(num_listings=100):\n",
    "    base_url = 'https://www.flipkart.com'\n",
    "    url = f'{base_url}/search?q=sunglasses'\n",
    "    data = []\n",
    "\n",
    "    while len(data) < num_listings:\n",
    "        response = requests.get(url)\n",
    "        if response.status_code == 200:\n",
    "            soup = BeautifulSoup(response.content, 'html.parser')\n",
    "\n",
    "            product_cards = soup.find_all('div', class_='_1AtVbE')\n",
    "            for card in product_cards:\n",
    "                brand = card.find('div', class_='_2WkVRV').text.strip()\n",
    "                description = card.find('a', class_='IRpwTa').text.strip()\n",
    "                price = card.find('div', class_='_30jeq3').text.strip()\n",
    "\n",
    "                data.append({\n",
    "                    'Brand': brand,\n",
    "                    'Product Description': description,\n",
    "                    'Price': price\n",
    "                })\n",
    "\n",
    "            next_button = soup.find('a', class_='ge-49M')\n",
    "            if next_button:\n",
    "                url = base_url + next_button['href']\n",
    "            else:\n",
    "                break\n",
    "        else:\n",
    "            print(f'Failed to fetch data from {url}')\n",
    "            break\n",
    "\n",
    "    return pd.DataFrame(data[:num_listings])\n",
    "\n",
    "# Example usage\n",
    "num_listings = 100\n",
    "df = scrape_flipkart_sunglasses(num_listings)\n",
    "print(df)\n"
   ]
  },
  {
   "cell_type": "code",
   "execution_count": null,
   "id": "3d16d0c3",
   "metadata": {},
   "outputs": [],
   "source": []
  }
 ],
 "metadata": {
  "kernelspec": {
   "display_name": "Python 3 (ipykernel)",
   "language": "python",
   "name": "python3"
  },
  "language_info": {
   "codemirror_mode": {
    "name": "ipython",
    "version": 3
   },
   "file_extension": ".py",
   "mimetype": "text/x-python",
   "name": "python",
   "nbconvert_exporter": "python",
   "pygments_lexer": "ipython3",
   "version": "3.11.5"
  }
 },
 "nbformat": 4,
 "nbformat_minor": 5
}
