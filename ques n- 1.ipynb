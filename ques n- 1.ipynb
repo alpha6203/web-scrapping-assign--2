{
 "cells": [
  {
   "cell_type": "code",
   "execution_count": 2,
   "id": "61953e24",
   "metadata": {},
   "outputs": [
    {
     "name": "stdout",
     "output_type": "stream",
     "text": [
      "Empty DataFrame\n",
      "Columns: []\n",
      "Index: []\n"
     ]
    }
   ],
   "source": [
    "import requests\n",
    "from bs4 import BeautifulSoup\n",
    "import pandas as pd\n",
    "\n",
    "def scrape_shine_jobs(job_title, location, num_jobs=10):\n",
    "    base_url = 'https://www.shine.com'\n",
    "    url = f'{base_url}/job-search/{job_title}-jobs-in-{location}'\n",
    "    \n",
    "    response = requests.get(url)\n",
    "    if response.status_code == 200:\n",
    "        soup = BeautifulSoup(response.content, 'html.parser')\n",
    "        \n",
    "        job_listings = soup.find_all('li', class_='search_listing')\n",
    "        data = []\n",
    "        for job in job_listings[:num_jobs]:\n",
    "            job_title = job.find('h3').text.strip()\n",
    "            company_name = job.find('span', class_='search_listing_company').text.strip()\n",
    "            job_location = job.find('span', class_='search_listing_job_location').text.strip()\n",
    "            experience_required = job.find('span', class_='search_listing_job_experience').text.strip()\n",
    "            \n",
    "            data.append({\n",
    "                'Job Title': job_title,\n",
    "                'Company Name': company_name,\n",
    "                'Job Location': job_location,\n",
    "                'Experience Required': experience_required\n",
    "            })\n",
    "        \n",
    "        return pd.DataFrame(data)\n",
    "    else:\n",
    "        print('Failed to fetch data from Shine.com')\n",
    "\n",
    "# Example usage\n",
    "job_title = \"Data Analyst\"\n",
    "location = \"Bangalore\"\n",
    "num_jobs = 10\n",
    "\n",
    "df = scrape_shine_jobs(job_title, location, num_jobs)\n",
    "print(df)\n"
   ]
  },
  {
   "cell_type": "code",
   "execution_count": null,
   "id": "fcce46a4",
   "metadata": {},
   "outputs": [],
   "source": []
  }
 ],
 "metadata": {
  "kernelspec": {
   "display_name": "Python 3 (ipykernel)",
   "language": "python",
   "name": "python3"
  },
  "language_info": {
   "codemirror_mode": {
    "name": "ipython",
    "version": 3
   },
   "file_extension": ".py",
   "mimetype": "text/x-python",
   "name": "python",
   "nbconvert_exporter": "python",
   "pygments_lexer": "ipython3",
   "version": "3.11.5"
  }
 },
 "nbformat": 4,
 "nbformat_minor": 5
}
